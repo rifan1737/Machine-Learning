{
  "cells": [
    {
      "cell_type": "markdown",
      "metadata": {
        "id": "view-in-github",
        "colab_type": "text"
      },
      "source": [
        "<a href=\"https://colab.research.google.com/github/rifan1737/Machine-Learning/blob/main/04_Fire_Rifan_Ahmad_Rifandi_01.ipynb\" target=\"_parent\"><img src=\"https://colab.research.google.com/assets/colab-badge.svg\" alt=\"Open In Colab\"/></a>"
      ]
    },
    {
      "cell_type": "markdown",
      "metadata": {
        "id": "Mrq5s9WWYcAV"
      },
      "source": [
        "# Preparation"
      ]
    },
    {
      "cell_type": "markdown",
      "metadata": {
        "id": "QOGAR9QHYcAZ"
      },
      "source": [
        "Preparation biasa dilakukan untuk mempersiapkan data sebelum masuk dalam tahap pemodelan. <br>\n",
        "Berikut adalah tahapan yang akan dilalui pada data `SC_HW1_bank_data.csv` sebelum tahap pemodelan :\n",
        "1. Import Library\n",
        "2. Input Dataset\n",
        "3. Preprocessing\n",
        "4. Train-Test Split"
      ]
    },
    {
      "cell_type": "markdown",
      "metadata": {
        "id": "RUIg363RYcAZ"
      },
      "source": [
        "## Import Library"
      ]
    },
    {
      "cell_type": "code",
      "execution_count": null,
      "metadata": {
        "id": "CWrO8BImYcAa"
      },
      "outputs": [],
      "source": [
        "import pandas as pd\n",
        "import numpy as np"
      ]
    },
    {
      "cell_type": "markdown",
      "metadata": {
        "id": "p_wYppbCYcAb"
      },
      "source": [
        "## Input Dataset"
      ]
    },
    {
      "cell_type": "code",
      "execution_count": null,
      "metadata": {
        "id": "bU29IupsYcAb",
        "outputId": "7ebfcdf8-b4d4-45dc-ef08-1371f0f5f662",
        "colab": {
          "base_uri": "https://localhost:8080/",
          "height": 192
        }
      },
      "outputs": [
        {
          "output_type": "error",
          "ename": "NameError",
          "evalue": "ignored",
          "traceback": [
            "\u001b[0;31m---------------------------------------------------------------------------\u001b[0m",
            "\u001b[0;31mNameError\u001b[0m                                 Traceback (most recent call last)",
            "\u001b[0;32m<ipython-input-1-8828fa9ec00a>\u001b[0m in \u001b[0;36m<cell line: 2>\u001b[0;34m()\u001b[0m\n\u001b[1;32m      1\u001b[0m \u001b[0;31m#Membaca data dan memasukkannya ke dalam bentuk Pandas Dataframe\u001b[0m\u001b[0;34m\u001b[0m\u001b[0;34m\u001b[0m\u001b[0m\n\u001b[0;32m----> 2\u001b[0;31m \u001b[0mdf\u001b[0m \u001b[0;34m=\u001b[0m \u001b[0mpd\u001b[0m\u001b[0;34m.\u001b[0m\u001b[0mread_csv\u001b[0m\u001b[0;34m(\u001b[0m\u001b[0;34m'https://raw.githubusercontent.com/Rietaros/kampus_merdeka/main/SC_HW1_bank_data.csv'\u001b[0m\u001b[0;34m)\u001b[0m\u001b[0;34m\u001b[0m\u001b[0;34m\u001b[0m\u001b[0m\n\u001b[0m",
            "\u001b[0;31mNameError\u001b[0m: name 'pd' is not defined"
          ]
        }
      ],
      "source": [
        "#Membaca data dan memasukkannya ke dalam bentuk Pandas Dataframe\n",
        "df = pd.read_csv('https://raw.githubusercontent.com/Rietaros/kampus_merdeka/main/SC_HW1_bank_data.csv')"
      ]
    },
    {
      "cell_type": "code",
      "execution_count": null,
      "metadata": {
        "id": "V7swrXGTYcAc"
      },
      "outputs": [],
      "source": [
        "#Jalankan code untuk mengecek nama kolom yang tersedia\n",
        "df.columns"
      ]
    },
    {
      "cell_type": "code",
      "execution_count": null,
      "metadata": {
        "id": "ySBcdpGy4rb3"
      },
      "outputs": [],
      "source": [
        "#Hilangkan kolom yang dirasa tidak relevan dengan model (contoh: ID). None dapat diisi dengan nama-nama kolom yang akan digunakan.\n",
        "#Contoh df = df[['X1','X2', 'Y']].copy()\n",
        "\n",
        "#START CODE\n",
        "df = df[[None]].copy()"
      ]
    },
    {
      "cell_type": "markdown",
      "metadata": {
        "id": "VAUrcQVIYcAe"
      },
      "source": [
        "## Preprocessing"
      ]
    },
    {
      "cell_type": "code",
      "execution_count": null,
      "metadata": {
        "id": "owVHMXqEYcAe"
      },
      "outputs": [],
      "source": [
        "#Lakukan One-Hot Encoder untuk data categorical, dengan fungsi pandas get_dummies\n",
        "\n",
        "#START CODE\n",
        "df = None"
      ]
    },
    {
      "cell_type": "code",
      "execution_count": null,
      "metadata": {
        "id": "zMNWzfUbYcAf"
      },
      "outputs": [],
      "source": [
        "#Pisahkan mana X (feature) dengan Y,\n",
        "#Y adalah kolom \"Exited\"\n",
        "\n",
        "#START CODE\n",
        "X = None\n",
        "y = None"
      ]
    },
    {
      "cell_type": "code",
      "execution_count": null,
      "metadata": {
        "id": "XWfdSiCxYcAg"
      },
      "outputs": [],
      "source": [
        "#Lakukan Scaler dan/atau Noermalisasi jika diperlukan\n",
        "from sklearn.preprocessing import MinMaxScaler\n",
        "\n",
        "#START CODE\n",
        "scaler = None\n",
        "X_transform = scaler.fit_transform(X)"
      ]
    },
    {
      "cell_type": "code",
      "execution_count": null,
      "metadata": {
        "id": "W5u5pH3uYcAg"
      },
      "outputs": [],
      "source": [
        "#Ini digunakan jika dilakukan scaler/Normalisas. Jika tidak, code ini bisa dilewat dan diganti dengan code yang ada di dalam komen\n",
        "X_transform = pd.DataFrame(X_transform, columns = X.columns)\n",
        "#X_transform = X.copy()"
      ]
    },
    {
      "cell_type": "markdown",
      "metadata": {
        "id": "4Pi0qKQAYcAh"
      },
      "source": [
        "## Train-Test Split"
      ]
    },
    {
      "cell_type": "code",
      "execution_count": null,
      "metadata": {
        "id": "0RDnybGDYcAh"
      },
      "outputs": [],
      "source": [
        "#Split menjadi train dan test dengan test_size 25%\n",
        "#Tidak perlu mengubah code ini\n",
        "\n",
        "from sklearn.model_selection import train_test_split\n",
        "X_train,X_test,y_train,y_test = train_test_split(X_transform,y,test_size = 0.25,random_state = 123)"
      ]
    },
    {
      "cell_type": "markdown",
      "metadata": {
        "id": "3hIL9sbPYcAh"
      },
      "source": [
        "# Modeling"
      ]
    },
    {
      "cell_type": "markdown",
      "metadata": {
        "id": "9PPYhjm3YcAi"
      },
      "source": [
        "## Model1"
      ]
    },
    {
      "cell_type": "markdown",
      "metadata": {
        "id": "Lt2iNWWTYcAj"
      },
      "source": [
        "### Soal :\n",
        "Jelaskan secara Singkat Model pertama yang digunakan!"
      ]
    },
    {
      "cell_type": "code",
      "execution_count": null,
      "metadata": {
        "id": "bnqFXuCyYcAk"
      },
      "outputs": [],
      "source": [
        "#Pilih salah satu metode Machine Leaarning\n",
        "#Model Machine Learning dapat dipanggil terlebih dahulu melalui library yang digunakan. Gunakan library scikit learn seperti pada contoh\n",
        "\n",
        "#Contoh pemanggilan library dan penggunaannya dalam model\n",
        "\n",
        "#from sklearn.linear_model import LogisticRegression\n",
        "#model1 = LogisticRegression()\n",
        "#params = { \"tol\": [0.1,0.01,0.001], 'C':[0.5,1.0,1.5,2.0]}\n",
        "\n",
        "\n",
        "#START CODE\n",
        "model1 = None\n",
        "params = None\n",
        "#END CODE\n",
        "\n",
        "#Lakukan parameter tuning sesuai hyperparameter yang dibutuhkan\n",
        "from sklearn.model_selection import GridSearchCV\n",
        "grid = GridSearchCV(\n",
        "             estimator= model1,\n",
        "             param_grid= params,\n",
        "             scoring = 'accuracy',\n",
        "             n_jobs = 10, # core cpu yang digunakan\n",
        "             cv = 10 # 3-fold cross validation (artinya kita melakukan iterasi model sebanyak 3 kali)\n",
        "            )\n",
        "\n",
        "grid.fit(X_train,y_train)\n",
        "grid.best_params_"
      ]
    },
    {
      "cell_type": "code",
      "execution_count": null,
      "metadata": {
        "id": "1f32JE8kYcAk"
      },
      "outputs": [],
      "source": [
        "#lakukan evaluasi dengan beberapa maetric di bawah ini\n",
        "from sklearn.metrics import classification_report\n",
        "from sklearn.metrics import accuracy_score\n",
        "from sklearn.metrics import confusion_matrix\n",
        "\n",
        "y_pred = grid.predict(X_test)\n",
        "\n",
        "print(classification_report(y_test,y_pred))\n",
        "print(\"\")\n",
        "print(confusion_matrix(y_test,y_pred))\n",
        "print(\"\")\n",
        "print(accuracy_score(y_test, y_pred))"
      ]
    },
    {
      "cell_type": "code",
      "source": [
        "# Impor library yang diperlukan\n",
        "from sklearn.linear_model import LogisticRegression\n",
        "from sklearn.model_selection import train_test_split\n",
        "from sklearn.metrics import accuracy_score\n",
        "\n",
        "# Misalnya, X adalah matriks fitur dan y adalah label\n",
        "# Bagi dataset menjadi data pelatihan (80%) dan data pengujian (20%)\n",
        "X_train, X_test, y_train, y_test = train_test_split(X, y, test_size=0.2, random_state=42)\n",
        "\n",
        "# Inisialisasi model Logistic Regression\n",
        "model = LogisticRegression()\n",
        "\n",
        "# Latih model menggunakan data pelatihan\n",
        "model.fit(X_train, y_train)\n",
        "\n",
        "# Lakukan prediksi menggunakan model yang telah dilatih terhadap data pengujian\n",
        "y_pred = model.predict(X_test)\n",
        "\n",
        "# Evaluasi model dengan mengukur akurasi prediksi\n",
        "accuracy = accuracy_score(y_test, y_pred)\n",
        "print(\"Akurasi Model Logistic Regression: {:.2f}%\".format(accuracy * 100))\n",
        "\n"
      ],
      "metadata": {
        "id": "U9WUQax9gkxR"
      },
      "execution_count": null,
      "outputs": []
    },
    {
      "cell_type": "markdown",
      "source": [
        "Penjelasan Singkat Model Pertama (\"Logistic Regression\"):\n",
        "\n",
        "1. Model pertama yang digunakan adalah \"Logistic Regression.\" Ini adalah algoritma Machine Learning yang umum digunakan untuk masalah klasifikasi, terutama ketika kita memiliki dua kelas target (binary classification).\n",
        "\n",
        "2. Pertama, dataset dibagi menjadi data pelatihan (80%) dan data pengujian (20%) menggunakan train_test_split.\n",
        "\n",
        "3. Kemudian, model Logistic Regression diinisialisasi dengan parameter default.\n",
        "Model dilatih menggunakan data pelatihan dengan menggunakan fit.\n",
        "\n",
        "4. Setelah dilatih, model digunakan untuk melakukan prediksi pada data pengujian dengan menggunakan predict.\n",
        "\n",
        "5. Akurasi prediksi diukur dan dicetak ke layar."
      ],
      "metadata": {
        "id": "R0faOuPohEne"
      }
    },
    {
      "cell_type": "markdown",
      "metadata": {
        "id": "LXuooROd4rb8"
      },
      "source": [
        "## Model2\n",
        "### Soal :\n",
        "Jelaskan secara Singkat Model ke-2 yang digunakan!"
      ]
    },
    {
      "cell_type": "code",
      "execution_count": null,
      "metadata": {
        "id": "HfJRofJL4rb8"
      },
      "outputs": [],
      "source": [
        "#Pilih salah satu metode Machine Leaarning\n",
        "#Model Machine Learning dapat dipanggil terlebih dahulu melalui library yang digunakan. Gunakan library scikit learn seperti pada contoh\n",
        "\n",
        "#Contoh pemanggilan library dan penggunaannya dalam model\n",
        "\n",
        "#from sklearn.linear_model import LogisticRegression\n",
        "#model1 = LogisticRegression()\n",
        "#params = { \"tol\": [0.1,0.01,0.001], 'C':[0.5,1.0,1.5,2.0]}\n",
        "\n",
        "\n",
        "#START CODE\n",
        "model2 = None\n",
        "params = None\n",
        "#END CODE\n",
        "\n",
        "#Lakukan parameter tuning sesuai hyperparameter yang dibutuhkan\n",
        "from sklearn.model_selection import GridSearchCV\n",
        "grid = GridSearchCV(\n",
        "             estimator= model2,\n",
        "             param_grid= params,\n",
        "             scoring = 'accuracy',\n",
        "             n_jobs = 10, # core cpu yang digunakan\n",
        "             cv = 10 # 3-fold cross validation (artinya kita melakukan iterasi model sebanyak 3 kali)\n",
        "            )\n",
        "\n",
        "grid.fit(X_train,y_train)\n",
        "grid.best_params_"
      ]
    },
    {
      "cell_type": "code",
      "execution_count": null,
      "metadata": {
        "id": "GOZ6oeyW4rb9"
      },
      "outputs": [],
      "source": [
        "#lakukan evaluasi\n",
        "from sklearn.metrics import classification_report\n",
        "from sklearn.metrics import accuracy_score\n",
        "from sklearn.metrics import confusion_matrix\n",
        "\n",
        "y_pred = grid.predict(X_test)\n",
        "\n",
        "print(classification_report(y_test,y_pred))\n",
        "print(\"\")\n",
        "print(confusion_matrix(y_test,y_pred))\n",
        "print(\"\")\n",
        "print(accuracy_score(y_test, y_pred))"
      ]
    },
    {
      "cell_type": "code",
      "source": [
        "# Impor library yang diperlukan\n",
        "from sklearn.ensemble import RandomForestClassifier\n",
        "from sklearn.model_selection import train_test_split\n",
        "from sklearn.metrics import accuracy_score\n",
        "\n",
        "# Misalnya, X adalah matriks fitur dan y adalah label\n",
        "# Bagi dataset menjadi data pelatihan (80%) dan data pengujian (20%)\n",
        "X_train, X_test, y_train, y_test = train_test_split(X, y, test_size=0.2, random_state=42)\n",
        "\n",
        "# Inisialisasi model Random Forest Classifier\n",
        "model = RandomForestClassifier(n_estimators=100, random_state=42)\n",
        "\n",
        "# Latih model menggunakan data pelatihan\n",
        "model.fit(X_train, y_train)\n",
        "\n",
        "# Lakukan prediksi menggunakan model yang telah dilatih terhadap data pengujian\n",
        "y_pred = model.predict(X_test)\n",
        "\n",
        "# Evaluasi model dengan mengukur akurasi prediksi\n",
        "accuracy = accuracy_score(y_test, y_pred)\n",
        "print(\"Akurasi Model Random Forest Classifier: {:.2f}%\".format(accuracy * 100))\n"
      ],
      "metadata": {
        "colab": {
          "base_uri": "https://localhost:8080/",
          "height": 245
        },
        "id": "kEHgj3B9hqLU",
        "outputId": "f6148577-ed0d-430c-b41c-4be12479f8fd"
      },
      "execution_count": null,
      "outputs": [
        {
          "output_type": "error",
          "ename": "NameError",
          "evalue": "ignored",
          "traceback": [
            "\u001b[0;31m---------------------------------------------------------------------------\u001b[0m",
            "\u001b[0;31mNameError\u001b[0m                                 Traceback (most recent call last)",
            "\u001b[0;32m<ipython-input-1-365007dcb108>\u001b[0m in \u001b[0;36m<cell line: 8>\u001b[0;34m()\u001b[0m\n\u001b[1;32m      6\u001b[0m \u001b[0;31m# Misalnya, X adalah matriks fitur dan y adalah label\u001b[0m\u001b[0;34m\u001b[0m\u001b[0;34m\u001b[0m\u001b[0m\n\u001b[1;32m      7\u001b[0m \u001b[0;31m# Bagi dataset menjadi data pelatihan (80%) dan data pengujian (20%)\u001b[0m\u001b[0;34m\u001b[0m\u001b[0;34m\u001b[0m\u001b[0m\n\u001b[0;32m----> 8\u001b[0;31m \u001b[0mX_train\u001b[0m\u001b[0;34m,\u001b[0m \u001b[0mX_test\u001b[0m\u001b[0;34m,\u001b[0m \u001b[0my_train\u001b[0m\u001b[0;34m,\u001b[0m \u001b[0my_test\u001b[0m \u001b[0;34m=\u001b[0m \u001b[0mtrain_test_split\u001b[0m\u001b[0;34m(\u001b[0m\u001b[0mX\u001b[0m\u001b[0;34m,\u001b[0m \u001b[0my\u001b[0m\u001b[0;34m,\u001b[0m \u001b[0mtest_size\u001b[0m\u001b[0;34m=\u001b[0m\u001b[0;36m0.2\u001b[0m\u001b[0;34m,\u001b[0m \u001b[0mrandom_state\u001b[0m\u001b[0;34m=\u001b[0m\u001b[0;36m42\u001b[0m\u001b[0;34m)\u001b[0m\u001b[0;34m\u001b[0m\u001b[0;34m\u001b[0m\u001b[0m\n\u001b[0m\u001b[1;32m      9\u001b[0m \u001b[0;34m\u001b[0m\u001b[0m\n\u001b[1;32m     10\u001b[0m \u001b[0;31m# Inisialisasi model Random Forest Classifier\u001b[0m\u001b[0;34m\u001b[0m\u001b[0;34m\u001b[0m\u001b[0m\n",
            "\u001b[0;31mNameError\u001b[0m: name 'X' is not defined"
          ]
        }
      ]
    },
    {
      "cell_type": "markdown",
      "source": [
        "\n",
        "Penjelasan Singkat Model Kedua (\"Random Forest Classifier\"):\n",
        "2. Model kedua yang digunakan adalah \"Random Forest Classifier.\" Ini adalah algoritma Machine Learning yang termasuk dalam kelompok Ensemble Learning, yang menggabungkan beberapa pohon keputusan (Decision Trees) untuk meningkatkan kinerja dan mengurangi overfitting.\n",
        "\n",
        "3. Dalam contoh ini, kita menggunakan 100 pohon keputusan (`n_estimators=100`) dalam ensemble Random Forest.\n",
        "\n",
        "4. Data dibagi menjadi data pelatihan dan data pengujian seperti sebelumnya.\n",
        "\n",
        "5. Model Random Forest Classifier diinisialisasi dan dilatih dengan data pelatihan.\n",
        "\n",
        "6. Kemudian, model digunakan untuk melakukan prediksi pada data pengujian.\n",
        "\n",
        "7. Akurasi prediksi diukur dan dicetak ke layar.\n",
        "\n"
      ],
      "metadata": {
        "id": "LWPEzzcthx7u"
      }
    },
    {
      "cell_type": "markdown",
      "metadata": {
        "id": "poj5B7fF4rb9"
      },
      "source": [
        "## Model3\n",
        "### Soal :\n",
        "Jelaskan secara Singkat Model ke-3 yang digunakan!"
      ]
    },
    {
      "cell_type": "code",
      "execution_count": null,
      "metadata": {
        "id": "O6riqEA74rb9"
      },
      "outputs": [],
      "source": [
        "#Pilih salah satu metode Machine Leaarning\n",
        "#Model Machine Learning dapat dipanggil terlebih dahulu melalui library yang digunakan. Gunakan library scikit learn seperti pada contoh\n",
        "\n",
        "#Contoh pemanggilan library dan penggunaannya dalam model\n",
        "\n",
        "#from sklearn.linear_model import LogisticRegression\n",
        "#model1 = LogisticRegression()\n",
        "#params = { \"tol\": [0.1,0.01,0.001], 'C':[0.5,1.0,1.5,2.0]}\n",
        "\n",
        "\n",
        "#START CODE\n",
        "model3 = None\n",
        "params = None\n",
        "#END CODE\n",
        "\n",
        "#Lakukan parameter tuning sesuai hyperparameter yang dibutuhkan\n",
        "from sklearn.model_selection import GridSearchCV\n",
        "grid = GridSearchCV(\n",
        "             estimator= model3,\n",
        "             param_grid= params,\n",
        "             scoring = 'accuracy',\n",
        "             n_jobs = 10, # core cpu yang digunakan\n",
        "             cv = 10 # 3-fold cross validation (artinya kita melakukan iterasi model sebanyak 3 kali)\n",
        "            )\n",
        "\n",
        "grid.fit(X_train,y_train)\n",
        "grid.best_params_"
      ]
    },
    {
      "cell_type": "code",
      "execution_count": null,
      "metadata": {
        "id": "4D60gsBj4rb9"
      },
      "outputs": [],
      "source": [
        "#lakukan evaluasi\n",
        "from sklearn.metrics import classification_report\n",
        "from sklearn.metrics import accuracy_score\n",
        "from sklearn.metrics import confusion_matrix\n",
        "\n",
        "y_pred = grid.predict(X_test)\n",
        "\n",
        "print(classification_report(y_test,y_pred))\n",
        "print(\"\")\n",
        "print(confusion_matrix(y_test,y_pred))\n",
        "print(\"\")\n",
        "print(accuracy_score(y_test, y_pred))"
      ]
    },
    {
      "cell_type": "code",
      "source": [
        "# Impor library yang diperlukan\n",
        "from sklearn.svm import SVC\n",
        "from sklearn.model_selection import train_test_split\n",
        "from sklearn.metrics import accuracy_score\n",
        "\n",
        "# Misalnya, X adalah matriks fitur dan y adalah label\n",
        "# Bagi dataset menjadi data pelatihan (80%) dan data pengujian (20%)\n",
        "X_train, X_test, y_train, y_test = train_test_split(X, y, test_size=0.2, random_state=42)\n",
        "\n",
        "# Inisialisasi model Support Vector Machine (SVM) Classifier\n",
        "model = SVC(kernel='linear', C=1.0, random_state=42)\n",
        "\n",
        "# Latih model menggunakan data pelatihan\n",
        "model.fit(X_train, y_train)\n",
        "\n",
        "# Lakukan prediksi menggunakan model yang telah dilatih terhadap data pengujian\n",
        "y_pred = model.predict(X_test)\n",
        "\n",
        "# Evaluasi model dengan mengukur akurasi prediksi\n",
        "accuracy = accuracy_score(y_test, y_pred)\n",
        "print(\"Akurasi Model SVM Classifier: {:.2f}%\".format(accuracy * 100))\n"
      ],
      "metadata": {
        "id": "3WR_QbkGi_MK"
      },
      "execution_count": null,
      "outputs": []
    },
    {
      "cell_type": "markdown",
      "source": [
        "\n",
        "\n",
        "Penjelasan Singkat Model Ketiga (\"Support Vector Machine (SVM) Classifier\"):\n",
        "1. Model ketiga yang digunakan adalah \"Support Vector Machine (SVM) Classifier.\" SVM adalah algoritma Machine Learning yang digunakan untuk masalah klasifikasi dan juga dapat digunakan untuk regresi.\n",
        "\n",
        "2.  Dalam contoh ini, kita menggunakan kernel linear (`kernel='linear'`) yang cocok untuk masalah klasifikasi linear.\n",
        "\n",
        "3. Parameter C (=1.0) digunakan untuk mengontrol trade-off antara margin maksimal dan penalti terhadap kesalahan klasifikasi. Anda dapat menyesuaikan nilai C sesuai dengan kebutuhan Anda.\n",
        "\n",
        "4. Data dibagi menjadi data pelatihan dan data pengujian seperti sebelumnya.\n",
        "\n",
        "5. Model SVM Classifier diinisialisasi dan dilatih dengan data pelatihan.\n",
        "\n",
        "6. Kemudian, model digunakan untuk melakukan prediksi pada data pengujian.\n",
        "\n",
        "7. Akurasi prediksi diukur dan dicetak ke layar.\n",
        "\n"
      ],
      "metadata": {
        "id": "saQM3hvKjIso"
      }
    },
    {
      "cell_type": "markdown",
      "metadata": {
        "id": "Blfl1F2M4rb-"
      },
      "source": [
        "## Tarik Kesimpulan Model Mana yang terbaik beserta alasannya"
      ]
    },
    {
      "cell_type": "markdown",
      "source": [
        "Setiap metode Machine Learning memiliki kelebihan dan kekurangan masing-masing, dan pilihan terbaik tergantung pada tipe data, masalah yang dihadapi, dan tujuan Anda. Di bawah ini, saya akan menjelaskan kelebihan dan kekurangan dari ketiga metode yang telah kita bahas sebelumnya: Logistic Regression, Random Forest Classifier, dan Support Vector Machine (SVM) Classifier.\n",
        "\n",
        "1. Logistic Regression:\n",
        "\n",
        "Kelebihan:\n",
        "- Sederhana dan mudah diinterpretasi. Hasilnya dapat dijelaskan dengan baik.\n",
        "- Efisien untuk dataset kecil hingga menengah.\n",
        "- Cocok untuk masalah klasifikasi biner.\n",
        "- Mampu mengukur pentingnya setiap fitur dalam prediksi.\n",
        "\n",
        "Kekurangan:\n",
        "- Tidak cocok untuk masalah klasifikasi yang sangat kompleks atau dataset dengan banyak fitur.\n",
        "- Cenderung underperform jika hubungan antara fitur dan target tidak linear.\n",
        "\n",
        "\n",
        "\n",
        "2. Random Forest Classifier:\n",
        "\n",
        "Kelebihan:\n",
        "- Sangat kuat dan serbaguna. Cocok untuk berbagai jenis masalah klasifikasi, termasuk yang kompleks.\n",
        "- Mampu menangani dataset besar dengan banyak fitur.\n",
        "- Dapat mengidentifikasi pentingnya fitur dalam prediksi.\n",
        "- Cenderung mengatasi masalah overfitting karena ensemble dari pohon keputusan.\n",
        "\n",
        "Kekurangan:\n",
        "- Kemungkinan besar memerlukan tuning parameter untuk kinerja optimal.\n",
        "- Kinerja komputasi yang lebih berat dibandingkan dengan model yang lebih sederhana seperti Logistic Regression.\n",
        "\n",
        "\n",
        "\n",
        "Support Vector Machine (SVM) Classifier:\n",
        "\n",
        "Kelebihan:\n",
        "- Cocok untuk masalah klasifikasi dengan batas keputusan yang kompleks dan non-linear.\n",
        "- Bekerja baik dalam ruang fitur berdimensi tinggi.\n",
        "- Memiliki parameter yang dapat diatur untuk mengontrol fleksibilitas model.\n",
        "\n",
        "Kekurangan:\n",
        "- Memerlukan tuning parameter yang hati-hati, seperti kernel dan parameter C.\n",
        "- Kurang efisien untuk dataset besar karena waktu komputasi yang tinggi.\n",
        "- Tidak selalu mudah diinterpretasi dan menjelaskan hasil prediksi.\n",
        "\n",
        "\n",
        "\n",
        "[ Pandangan Saya ]\n",
        "Saya merasa bahwa Random Forest Classifier adalah pilihan yang cukup baik untuk tugas saya, itu bisa menjadi keputusan yang masuk akal berdasarkan beberapa alasan berikut:\n",
        "\n",
        "1. Kemampuan Generalisasi yang Baik: Random Forest Classifier memiliki kemampuan yang baik untuk menggeneralisasi dari data pelatihan ke data pengujian. Ini membantu dalam menghindari overfitting, terutama jika memiliki dataset yang kompleks atau besar.\n",
        "\n",
        "2. Pengelolaan Fitur: Random Forest dapat memberikan informasi tentang pentingnya setiap fitur dalam prediksi. Ini berguna untuk memahami mana fitur yang paling berpengaruh dalam masalah yang dihadapi.\n",
        "\n",
        "3. Kekuatan Ensemble: Random Forest adalah metode ensemble yang menggabungkan beberapa pohon keputusan. Dengan cara ini, ia dapat mengambil keuntungan dari \"kebijaksanaan kerumunan\" dan menghasilkan hasil yang lebih stabil dan akurat.\n",
        "\n",
        "4. Tidak Memerlukan Transformasi Data yang Rumit: Random Forest tidak memerlukan normalisasi atau transformasi data yang rumit seperti beberapa metode lainnya. Ini membuatnya lebih mudah digunakan dengan berbagai jenis data.\n",
        "\n",
        "5. Dukungan untuk Masalah Klasifikasi dan Regresi: Random Forest tidak hanya cocok untuk masalah klasifikasi, tetapi juga dapat digunakan untuk masalah regresi, sehingga Anda dapat menggunakannya dalam berbagai konteks.\n",
        "\n"
      ],
      "metadata": {
        "id": "ZezOc2Y6jy6Y"
      }
    }
  ],
  "metadata": {
    "colab": {
      "provenance": [],
      "include_colab_link": true
    },
    "kernelspec": {
      "display_name": "Python 3",
      "language": "python",
      "name": "python3"
    },
    "language_info": {
      "codemirror_mode": {
        "name": "ipython",
        "version": 3
      },
      "file_extension": ".py",
      "mimetype": "text/x-python",
      "name": "python",
      "nbconvert_exporter": "python",
      "pygments_lexer": "ipython3",
      "version": "3.8.8"
    },
    "toc-autonumbering": true,
    "toc-showcode": false,
    "toc-showmarkdowntxt": false
  },
  "nbformat": 4,
  "nbformat_minor": 0
}